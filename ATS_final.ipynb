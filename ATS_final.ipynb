{
  "nbformat": 4,
  "nbformat_minor": 0,
  "metadata": {
    "colab": {
      "provenance": [],
      "mount_file_id": "1i9UKQgnWgsqY68OcRVz0ZvNPw2aj0tDr",
      "authorship_tag": "ABX9TyOs/7uK7zf4pdb6H3RDXmbs",
      "include_colab_link": true
    },
    "kernelspec": {
      "name": "python3",
      "display_name": "Python 3"
    },
    "language_info": {
      "name": "python"
    }
  },
  "cells": [
    {
      "cell_type": "markdown",
      "metadata": {
        "id": "view-in-github",
        "colab_type": "text"
      },
      "source": [
        "<a href=\"https://colab.research.google.com/github/RobelD420/Machine-Learning/blob/main/ATS_final.ipynb\" target=\"_parent\"><img src=\"https://colab.research.google.com/assets/colab-badge.svg\" alt=\"Open In Colab\"/></a>"
      ]
    },
    {
      "cell_type": "code",
      "execution_count": 1,
      "metadata": {
        "colab": {
          "base_uri": "https://localhost:8080/"
        },
        "id": "gZM-mFS_M8hl",
        "outputId": "2c90f870-94ae-4920-82fd-91c6445eaa25"
      },
      "outputs": [
        {
          "output_type": "stream",
          "name": "stdout",
          "text": [
            "Collecting pymupdf\n",
            "  Downloading pymupdf-1.26.3-cp39-abi3-manylinux_2_28_x86_64.whl.metadata (3.4 kB)\n",
            "Downloading pymupdf-1.26.3-cp39-abi3-manylinux_2_28_x86_64.whl (24.1 MB)\n",
            "\u001b[2K   \u001b[90m━━━━━━━━━━━━━━━━━━━━━━━━━━━━━━━━━━━━━━━━\u001b[0m \u001b[32m24.1/24.1 MB\u001b[0m \u001b[31m52.1 MB/s\u001b[0m eta \u001b[36m0:00:00\u001b[0m\n",
            "\u001b[?25hInstalling collected packages: pymupdf\n",
            "Successfully installed pymupdf-1.26.3\n"
          ]
        }
      ],
      "source": [
        "!pip install pymupdf"
      ]
    },
    {
      "cell_type": "code",
      "source": [
        "#Predefined function to ensure fitz has successfully opened file or not\n",
        "def file_opened(file):\n",
        "  if not file.is_closed:\n",
        "     print (f\"{file} has been opened successfully\")\n",
        "  else:\n",
        "     print (f\"{file} has not been opened successfully\")\n",
        "     return"
      ],
      "metadata": {
        "id": "PfLBSGHDTX3r"
      },
      "execution_count": 16,
      "outputs": []
    },
    {
      "cell_type": "code",
      "source": [
        "import pymupdf as fitz #PDF reading\n",
        "import spacy #Structural parsing\n",
        "import regex #Regular Expression\n",
        "import json #For jsonifying\n",
        "import os #Directory Navigation"
      ],
      "metadata": {
        "id": "KVLE99ygNTp7"
      },
      "execution_count": 11,
      "outputs": []
    },
    {
      "cell_type": "code",
      "source": [
        "#The spacy model that extracts attributes\n",
        "nlp = spacy.load(\"en_core_web_sm\")"
      ],
      "metadata": {
        "id": "on539vcTOcB6"
      },
      "execution_count": 3,
      "outputs": []
    },
    {
      "cell_type": "code",
      "source": [
        "#Skills Lists\n",
        "coding_skills = [\"Python\", \"SQL\", \"Django\", \"React\", \"Machine Learning\", \"Java\", \"C++\", \"Node.js\", \"Next.js\"]\n",
        "business_skills = [\"Commerce\", \"Business\", \"Trading\", \"Marketing\", \"Online Marketing\", \"Digital Marketing\", \"Real Estate\", \"Forex\"]\n",
        "language_skills = [\"English\", \"Spanish\", \"French\", \"Arabic\", \"Russian\", \"German\", \"Portuguese\", \"Amharic\"]"
      ],
      "metadata": {
        "id": "b3ZoJxxtPMxm"
      },
      "execution_count": 5,
      "outputs": []
    },
    {
      "cell_type": "code",
      "source": [
        "resume_folder = \"data/\"\n",
        "output_folder = \"contents/info/\"\n",
        "\n",
        "os.makedirs(output_folder, exist_ok=True)  # Create output folder if missing"
      ],
      "metadata": {
        "id": "vzLUOVWVPXLc"
      },
      "execution_count": 6,
      "outputs": []
    },
    {
      "cell_type": "code",
      "source": [
        "#Parsing\n",
        "resumes = [] #The list will hold all the parsed resumes\n",
        "\n",
        "#Looping through resumes\n",
        "for file in os.listdir(resume_folder):\n",
        "    if not file.endswith(\".pdf\"):\n",
        "        continue #Skip non-pdf files\n",
        "\n",
        "print(f\"Processing {file}...\")"
      ],
      "metadata": {
        "colab": {
          "base_uri": "https://localhost:8080/"
        },
        "id": "2OMsCJ6HPsFF",
        "outputId": "51dee59d-fe86-4ad7-f4ce-edac59c8fb72"
      },
      "execution_count": 18,
      "outputs": [
        {
          "output_type": "stream",
          "name": "stdout",
          "text": [
            "Processing skills-based-cv.pdf...\n"
          ]
        }
      ]
    },
    {
      "cell_type": "code",
      "source": [
        "#Use fitz to open pdf\n",
        "file = fitz.open(os.path.join(resume_folder, file))\n",
        "\n",
        "file_opened(file)"
      ],
      "metadata": {
        "colab": {
          "base_uri": "https://localhost:8080/"
        },
        "id": "ZXttIZwdQ_Qa",
        "outputId": "a482c532-236a-44ab-ed6e-292d1e7b579a"
      },
      "execution_count": 19,
      "outputs": [
        {
          "output_type": "stream",
          "name": "stdout",
          "text": [
            "Document('data/skills-based-cv.pdf') has been opened successfully\n"
          ]
        }
      ]
    },
    {
      "cell_type": "code",
      "source": [
        "#Reformatting it so spacy can handle attribute extraction\n",
        "text = \"\"\n",
        "for page in file:\n",
        "  text += page.get_text()"
      ],
      "metadata": {
        "id": "Q3RcwfjNTEhw"
      },
      "execution_count": 20,
      "outputs": []
    },
    {
      "cell_type": "code",
      "source": [
        "#Specify doc object for spacy model\n",
        "doc = nlp(text)"
      ],
      "metadata": {
        "id": "ragCcI7ARfVa"
      },
      "execution_count": 21,
      "outputs": []
    },
    {
      "cell_type": "code",
      "source": [
        "# === Extract Candidate Name ===\n",
        "candidate_name = None\n",
        "for ent in doc.ents:\n",
        "  #Using Entity objects in the doc, and extracting \"person\" labels\n",
        "    if ent.label_ == \"PERSON\" and \"customer\" not in ent.text.lower():\n",
        "       candidate_name = ent.text.title() #To put it in title case\n",
        "       break"
      ],
      "metadata": {
        "id": "tslo6ad0RnMe"
      },
      "execution_count": 22,
      "outputs": []
    },
    {
      "cell_type": "code",
      "source": [
        "# === Extract Candidate Email ===\n",
        "email_pattern = r\"[a-zA-Z0-9_.+-]+@[a-zA-Z0-9-]+\\.[a-zA-Z0-9-.]+\"\n",
        "email_match = regex.search(email_pattern, text)\n",
        "email = email_match.group() if email_match else None"
      ],
      "metadata": {
        "id": "830CWy_sR8SE"
      },
      "execution_count": 23,
      "outputs": []
    },
    {
      "cell_type": "code",
      "source": [
        "# === Extract Candidate Phone ===\n",
        "phone_pattern = r\"(?:Mobile[:\\s]*)?(\\+?\\d{2,4}[\\s-]?\\d{3,5}[\\s-]?\\d{3,5})\"\n",
        "phone_match = regex.findall(phone_pattern, text)\n",
        "phone = phone_match[0] if phone_match else None"
      ],
      "metadata": {
        "id": "G8BfQL-iSOlp"
      },
      "execution_count": 24,
      "outputs": []
    },
    {
      "cell_type": "code",
      "source": [
        " # === Extract Candidate Skills ===\n",
        "skills_found = set()\n",
        "for token in doc:\n",
        "    word = token.text.strip()\n",
        "    #Check whether the word is within the 3 predefined skillsets\n",
        "    if word in coding_skills + business_skills + language_skills:\n",
        "       skills_found.add(word)"
      ],
      "metadata": {
        "id": "ZmWH9bvGSlDK"
      },
      "execution_count": 25,
      "outputs": []
    },
    {
      "cell_type": "code",
      "source": [
        "# === Total Years of Experience ===\n",
        "exp_years = 0\n",
        "years_pattern = r\"Total Years of Experience[:\\s]*([0-9]{1,2})\"\n",
        "years_match = regex.search(years_pattern, text)\n",
        "exp_years = int(years_match.group(1)) if years_match else None"
      ],
      "metadata": {
        "id": "MlGh8y-3S-r9"
      },
      "execution_count": 26,
      "outputs": []
    },
    {
      "cell_type": "code",
      "source": [
        "#Print Candidate Info\n",
        "print(f\"✅ Found:\\n Name = {candidate_name}, \\n Email={email}, \\n Years = {exp_years}\")"
      ],
      "metadata": {
        "colab": {
          "base_uri": "https://localhost:8080/"
        },
        "id": "2QUFX8NYVChA",
        "outputId": "73b63097-f603-4bd8-9878-81d1449ec77f"
      },
      "execution_count": 30,
      "outputs": [
        {
          "output_type": "stream",
          "name": "stdout",
          "text": [
            "✅ Found:\n",
            " Name = Ashley Gill, \n",
            " Email=ashleygill2023@gotmail.com, \n",
            " Years = None\n"
          ]
        }
      ]
    },
    {
      "cell_type": "code",
      "source": [
        "#Defining the JSON format\n",
        "resume_data= {\n",
        "    \"name\": candidate_name,\n",
        "    \"email\": email,\n",
        "    \"phone\": phone,\n",
        "    \"years\": exp_years,\n",
        "    \"skills\": list(skills_found)\n",
        "}\n"
      ],
      "metadata": {
        "id": "c8LqEp0sVLAg"
      },
      "execution_count": 53,
      "outputs": []
    },
    {
      "cell_type": "code",
      "source": [
        "#SAVING the JSON file\n",
        "with open(os.path.join(output_folder, f\"{candidate_name}.json\"), \"w\") as f:\n",
        "        json.dump(resume_data, f, indent=4)\n",
        "\n",
        "resumes.append(resume_data)\n",
        "#We close the PDF file since it is only the JSON we'll need from here on.\n",
        "file.close()"
      ],
      "metadata": {
        "id": "5k5bJxCgV-dT"
      },
      "execution_count": 33,
      "outputs": []
    },
    {
      "cell_type": "code",
      "source": [
        "#TENTATIVE CODE FOR TESTING\n",
        "folder = \"contents/info\"\n",
        "resumes = []\n",
        "\n",
        "for f in os.listdir(folder):\n",
        "    if f.endswith(\".json\"):\n",
        "        with open(os.path.join(folder, f)) as jf:\n",
        "            resumes.append(json.load(jf))"
      ],
      "metadata": {
        "id": "28CIFuWkeiP4"
      },
      "execution_count": 54,
      "outputs": []
    },
    {
      "cell_type": "code",
      "source": [
        "resumes"
      ],
      "metadata": {
        "colab": {
          "base_uri": "https://localhost:8080/"
        },
        "id": "rhBkGhDgc0T7",
        "outputId": "b1d50507-ae61-4036-f5ad-6d43caf4cdf8"
      },
      "execution_count": 55,
      "outputs": [
        {
          "output_type": "execute_result",
          "data": {
            "text/plain": [
              "[{'name': 'Robson Taye',\n",
              "  'email': 'RobaTaye28@gotmail.com',\n",
              "  'phone': '01002 92134',\n",
              "  'years': 3,\n",
              "  'skills': ['Python', 'SQL', 'French', 'English']},\n",
              " {'name': 'Ashley Gill',\n",
              "  'email': 'ashleygill2023@gotmail.com',\n",
              "  'phone': '01882 65234',\n",
              "  'years': None,\n",
              "  'skills': ['Spanish', 'French', 'Business', 'Marketing', 'English']}]"
            ]
          },
          "metadata": {},
          "execution_count": 55
        }
      ]
    },
    {
      "cell_type": "code",
      "source": [
        "#Printing JSON status\n",
        "print(f\"\\n✅ ✅ ✅\\nDone parsing all resumes!\\n\")"
      ],
      "metadata": {
        "colab": {
          "base_uri": "https://localhost:8080/"
        },
        "id": "JwTVAMDgXFG3",
        "outputId": "de3305b1-ab30-4083-b938-5af8c51ff5e0"
      },
      "execution_count": 56,
      "outputs": [
        {
          "output_type": "stream",
          "name": "stdout",
          "text": [
            "\n",
            "✅ ✅ ✅\n",
            "Done parsing all resumes!\n",
            "\n"
          ]
        }
      ]
    },
    {
      "cell_type": "code",
      "source": [
        "#COSINE SIMILARITY\n",
        "from sentence_transformers import SentenceTransformer, util\n",
        "\n",
        "#This will be the Applicant-Ranking model\n",
        "model = SentenceTransformer('all-MiniLM-L6-v2')\n",
        "\n",
        "#Assume the following is the job the applicants are seeking\n",
        "Job_requirement = \"We want someone strong in Python. English and French are preferred. More total years of experience is better.\"\n"
      ],
      "metadata": {
        "id": "rnTrrc88XN5u"
      },
      "execution_count": 50,
      "outputs": []
    },
    {
      "cell_type": "code",
      "source": [
        "#Prepare the text for embedding: Skill + exp_years\n",
        "texts = []\n",
        "\n",
        "#Iterate over every json resume\n",
        "for resume in resumes:\n",
        "   skills = \" \".join(resume[\"skills\"])\n",
        "   years = f\"{resume['years']} years experience\" if resume[\"years\"] else \"unknown experience\"\n",
        "   combined = f\"{skills} {years}\"\n",
        "   texts.append(combined)"
      ],
      "metadata": {
        "id": "G9TN7_VkXb4P"
      },
      "execution_count": 57,
      "outputs": []
    },
    {
      "cell_type": "code",
      "source": [
        "print(\"🔍 Texts for similarity:\\n\", texts)"
      ],
      "metadata": {
        "colab": {
          "base_uri": "https://localhost:8080/"
        },
        "id": "o7kjhL_IayD2",
        "outputId": "dfecdf87-89d8-4c33-fe93-d30b3e73bf32"
      },
      "execution_count": 58,
      "outputs": [
        {
          "output_type": "stream",
          "name": "stdout",
          "text": [
            "🔍 Texts for similarity:\n",
            " ['Python SQL French English 3 years experience', 'Spanish French Business Marketing English unknown experience']\n"
          ]
        }
      ]
    },
    {
      "cell_type": "markdown",
      "source": [
        "The COSINE SIMILARITY method is primarily used to determine the similarity between two pieces of text. The model tries to find the COSINE of the angle between the vectors representing the words.\n",
        "\n",
        "Here in this case, we are trying to find a similarity between the embedded text detailing the applicant's skillset and the job requirement that dictates whether someone is fit for the specified job or not."
      ],
      "metadata": {
        "id": "Hd5Byq0Fb1gm"
      }
    },
    {
      "cell_type": "code",
      "source": [
        "#Encoding for Similarity\n",
        "job_embeddings = model.encode(Job_requirement, convert_to_tensor=True)\n",
        "resume_embeddings = model.encode(texts, convert_to_tensor=True)\n",
        "\n",
        "#Cosine Score Rating\n",
        "cos_scores = util.cos_sim(job_embeddings, resume_embeddings)[0]"
      ],
      "metadata": {
        "id": "kHnaGPrnbtAY"
      },
      "execution_count": 59,
      "outputs": []
    },
    {
      "cell_type": "code",
      "source": [
        "#FINAL RANKINGS (0 - 1)\n",
        "print(\"\\n=== FINAL RANKINGS ===\")\n",
        "for i, res in enumerate(resumes):\n",
        "    print(f\"{res['name']}: {cos_scores[i].item():.4f}\")"
      ],
      "metadata": {
        "colab": {
          "base_uri": "https://localhost:8080/"
        },
        "id": "_xskx7_mcj36",
        "outputId": "3981ccdb-e14e-412e-fbf6-71409e196165"
      },
      "execution_count": 60,
      "outputs": [
        {
          "output_type": "stream",
          "name": "stdout",
          "text": [
            "\n",
            "=== FINAL RANKINGS ===\n",
            "Robson Taye: 0.6888\n",
            "Ashley Gill: 0.3927\n"
          ]
        }
      ]
    },
    {
      "cell_type": "code",
      "source": [
        "#So, who is better for the job?\n",
        "# Find best score and candidate\n",
        "best_idx = cos_scores.argmax().item()   # index of highest score\n",
        "best_candidate = resumes[best_idx]['name']\n",
        "best_score = cos_scores[best_idx].item()\n",
        "\n",
        "print(\"\\n===============================\")\n",
        "print(f\"🏆 {best_candidate} has the highest match with a score of {best_score:.4f}\")\n",
        "print(\"===============================\")"
      ],
      "metadata": {
        "colab": {
          "base_uri": "https://localhost:8080/"
        },
        "id": "jdvjzsMPctRs",
        "outputId": "f073304d-22bd-42a0-cf3a-cee5b7732bc4"
      },
      "execution_count": 62,
      "outputs": [
        {
          "output_type": "stream",
          "name": "stdout",
          "text": [
            "\n",
            "===============================\n",
            "🏆 Robson Taye has the highest match: with a score of 0.6888\n",
            "===============================\n"
          ]
        }
      ]
    },
    {
      "cell_type": "code",
      "source": [],
      "metadata": {
        "id": "rBivEzLYgG1c"
      },
      "execution_count": null,
      "outputs": []
    }
  ]
}